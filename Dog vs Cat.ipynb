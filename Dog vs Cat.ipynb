{
 "cells": [
  {
   "cell_type": "code",
   "execution_count": 1,
   "id": "3c58143d",
   "metadata": {},
   "outputs": [],
   "source": [
    "#import libraries\n",
    "import tensorflow as tf"
   ]
  },
  {
   "cell_type": "code",
   "execution_count": 2,
   "id": "bf3adb19",
   "metadata": {},
   "outputs": [],
   "source": [
    "from keras.preprocessing.image import ImageDataGenerator"
   ]
  },
  {
   "cell_type": "code",
   "execution_count": 3,
   "id": "e0b8ac3a",
   "metadata": {},
   "outputs": [
    {
     "name": "stdout",
     "output_type": "stream",
     "text": [
      "Found 25000 images belonging to 2 classes.\n"
     ]
    }
   ],
   "source": [
    "#data preprocessing\n",
    "train_datagen = ImageDataGenerator(\n",
    "        rescale=1./255,\n",
    "        shear_range=0.2,\n",
    "        zoom_range=0.2,\n",
    "        horizontal_flip=True)\n",
    "\n",
    "train_generator = train_datagen.flow_from_directory(\n",
    "        'Dataset/train',\n",
    "        target_size=(64, 64),\n",
    "        batch_size=32,\n",
    "        class_mode='binary')"
   ]
  },
  {
   "cell_type": "code",
   "execution_count": 4,
   "id": "83c6d948",
   "metadata": {},
   "outputs": [
    {
     "name": "stdout",
     "output_type": "stream",
     "text": [
      "Found 5000 images belonging to 2 classes.\n"
     ]
    }
   ],
   "source": [
    "test_datagen = ImageDataGenerator(rescale=1./255)\n",
    "validation_generator = test_datagen.flow_from_directory(\n",
    "        'Dataset/test',\n",
    "        target_size=(64, 64),\n",
    "        batch_size=32,\n",
    "        class_mode='binary')"
   ]
  },
  {
   "cell_type": "code",
   "execution_count": 5,
   "id": "7a041351",
   "metadata": {},
   "outputs": [],
   "source": [
    "#build CNN Model\n",
    "#initalize\n",
    "cnn = tf.keras.models.Sequential()"
   ]
  },
  {
   "cell_type": "code",
   "execution_count": 6,
   "id": "f1e80b32",
   "metadata": {},
   "outputs": [],
   "source": [
    "#convolution\n",
    "cnn.add(tf.keras.layers.Conv2D(filters = 32, kernel_size = 3,\n",
    "                               activation = 'relu',\n",
    "                               input_shape = [64,64,3]))"
   ]
  },
  {
   "cell_type": "code",
   "execution_count": 7,
   "id": "b25105c9",
   "metadata": {},
   "outputs": [],
   "source": [
    "#pooling\n",
    "cnn.add(tf.keras.layers.MaxPool2D(pool_size = 2, strides = 2))"
   ]
  },
  {
   "cell_type": "code",
   "execution_count": 8,
   "id": "9fb5e6f1",
   "metadata": {},
   "outputs": [],
   "source": [
    "#add 1 more layer\n",
    "cnn.add(tf.keras.layers.Conv2D(filters = 32, kernel_size = 3,\n",
    "                               activation = 'relu'))\n",
    "\n",
    "cnn.add(tf.keras.layers.MaxPool2D(pool_size = 2, strides = 2))"
   ]
  },
  {
   "cell_type": "code",
   "execution_count": 9,
   "id": "b98644d7",
   "metadata": {},
   "outputs": [],
   "source": [
    "#flatten\n",
    "cnn.add(tf.keras.layers.Flatten())"
   ]
  },
  {
   "cell_type": "code",
   "execution_count": 10,
   "id": "c3f0eb15",
   "metadata": {},
   "outputs": [],
   "source": [
    "#full connection\n",
    "cnn.add(tf.keras.layers.Dense(units = 128, activation = 'relu'))"
   ]
  },
  {
   "cell_type": "code",
   "execution_count": 11,
   "id": "8727c900",
   "metadata": {},
   "outputs": [],
   "source": [
    "#output layer\n",
    "cnn.add(tf.keras.layers.Dense(units = 1, activation = 'sigmoid'))"
   ]
  },
  {
   "cell_type": "code",
   "execution_count": 12,
   "id": "ec359ab7",
   "metadata": {},
   "outputs": [],
   "source": [
    "#compile the model\n",
    "cnn.compile(optimizer = 'adam', loss = 'binary_crossentropy', metrics = ['accuracy'] )"
   ]
  },
  {
   "cell_type": "code",
   "execution_count": 13,
   "id": "76d14da9",
   "metadata": {},
   "outputs": [
    {
     "name": "stdout",
     "output_type": "stream",
     "text": [
      "Epoch 1/20\n",
      "782/782 [==============================] - 135s 171ms/step - loss: 0.6220 - accuracy: 0.6538 - val_loss: 0.5492 - val_accuracy: 0.7160\n",
      "Epoch 2/20\n",
      "782/782 [==============================] - 120s 154ms/step - loss: 0.5319 - accuracy: 0.7326 - val_loss: 0.4839 - val_accuracy: 0.7666\n",
      "Epoch 3/20\n",
      "782/782 [==============================] - 118s 151ms/step - loss: 0.4877 - accuracy: 0.7650 - val_loss: 0.4650 - val_accuracy: 0.7740\n",
      "Epoch 4/20\n",
      "782/782 [==============================] - 118s 151ms/step - loss: 0.4520 - accuracy: 0.7838 - val_loss: 0.4415 - val_accuracy: 0.8010\n",
      "Epoch 5/20\n",
      "782/782 [==============================] - 118s 151ms/step - loss: 0.4317 - accuracy: 0.7981 - val_loss: 0.3980 - val_accuracy: 0.8184\n",
      "Epoch 6/20\n",
      "782/782 [==============================] - 124s 159ms/step - loss: 0.4091 - accuracy: 0.8108 - val_loss: 0.3638 - val_accuracy: 0.8346\n",
      "Epoch 7/20\n",
      "782/782 [==============================] - 120s 154ms/step - loss: 0.3914 - accuracy: 0.8180 - val_loss: 0.3452 - val_accuracy: 0.8452\n",
      "Epoch 8/20\n",
      "782/782 [==============================] - 119s 153ms/step - loss: 0.3701 - accuracy: 0.8359 - val_loss: 0.3532 - val_accuracy: 0.8380\n",
      "Epoch 9/20\n",
      "782/782 [==============================] - 118s 151ms/step - loss: 0.3528 - accuracy: 0.8412 - val_loss: 0.3037 - val_accuracy: 0.8654\n",
      "Epoch 10/20\n",
      "782/782 [==============================] - 118s 151ms/step - loss: 0.3416 - accuracy: 0.8468 - val_loss: 0.3014 - val_accuracy: 0.8734\n",
      "Epoch 11/20\n",
      "782/782 [==============================] - 117s 150ms/step - loss: 0.3235 - accuracy: 0.8611 - val_loss: 0.3417 - val_accuracy: 0.8458\n",
      "Epoch 12/20\n",
      "782/782 [==============================] - 117s 150ms/step - loss: 0.3107 - accuracy: 0.8653 - val_loss: 0.2644 - val_accuracy: 0.8888\n",
      "Epoch 13/20\n",
      "782/782 [==============================] - 120s 153ms/step - loss: 0.3031 - accuracy: 0.8696 - val_loss: 0.2375 - val_accuracy: 0.9008\n",
      "Epoch 14/20\n",
      "782/782 [==============================] - 118s 151ms/step - loss: 0.2877 - accuracy: 0.8770 - val_loss: 0.2661 - val_accuracy: 0.8844\n",
      "Epoch 15/20\n",
      "782/782 [==============================] - 120s 153ms/step - loss: 0.2784 - accuracy: 0.8804 - val_loss: 0.2519 - val_accuracy: 0.8888\n",
      "Epoch 16/20\n",
      "782/782 [==============================] - 119s 152ms/step - loss: 0.2606 - accuracy: 0.8889 - val_loss: 0.2198 - val_accuracy: 0.9080\n",
      "Epoch 17/20\n",
      "782/782 [==============================] - 117s 149ms/step - loss: 0.2551 - accuracy: 0.8929 - val_loss: 0.2375 - val_accuracy: 0.8946\n",
      "Epoch 18/20\n",
      "782/782 [==============================] - 116s 149ms/step - loss: 0.2414 - accuracy: 0.8978 - val_loss: 0.1995 - val_accuracy: 0.9204\n",
      "Epoch 19/20\n",
      "782/782 [==============================] - 117s 150ms/step - loss: 0.2336 - accuracy: 0.9041 - val_loss: 0.1834 - val_accuracy: 0.9324\n",
      "Epoch 20/20\n",
      "782/782 [==============================] - 116s 149ms/step - loss: 0.2256 - accuracy: 0.9066 - val_loss: 0.1704 - val_accuracy: 0.9326\n"
     ]
    }
   ],
   "source": [
    "#train the model\n",
    "history = cnn.fit(x = train_generator, validation_data = validation_generator, epochs = 20)"
   ]
  },
  {
   "cell_type": "code",
   "execution_count": 14,
   "id": "5bdd1cea",
   "metadata": {},
   "outputs": [],
   "source": [
    "#single prediction\n",
    "import numpy as np\n",
    "from keras.preprocessing import image\n",
    "test_image = image.load_img(\"dataset/single/2.jpg\", target_size = (64,64))\n",
    "test_image = image.img_to_array(test_image)\n",
    "test_image = np.expand_dims(test_image, axis = 0)\n",
    "result = cnn.predict(test_image)\n",
    "train_generator.class_indices\n",
    "if result[0][0] == 1:\n",
    "    prediction = 'dog'\n",
    "else:\n",
    "    prediction = 'cat'"
   ]
  },
  {
   "cell_type": "code",
   "execution_count": 15,
   "id": "184c08c2",
   "metadata": {},
   "outputs": [
    {
     "data": {
      "text/plain": [
       "'dog'"
      ]
     },
     "execution_count": 15,
     "metadata": {},
     "output_type": "execute_result"
    }
   ],
   "source": [
    "prediction"
   ]
  },
  {
   "cell_type": "code",
   "execution_count": 16,
   "id": "47ef27c6",
   "metadata": {},
   "outputs": [],
   "source": [
    "#multiple prediction\n",
    "import numpy as np\n",
    "import os\n",
    "from keras.preprocessing import image\n",
    "result_list = []\n",
    "for test_image in os.scandir(\"dataset/single\"):\n",
    "    test_image = image.load_img(test_image, target_size = (64,64))\n",
    "    test_image = image.img_to_array(test_image)\n",
    "    test_image = np.expand_dims(test_image, axis = 0)\n",
    "    result = cnn.predict(test_image)\n",
    "    train_generator.class_indices\n",
    "    if result[0][0] == 1:\n",
    "        prediction = 'dog'\n",
    "    else:\n",
    "        prediction = 'cat'\n",
    "    result_list.append(prediction)"
   ]
  },
  {
   "cell_type": "code",
   "execution_count": 17,
   "id": "17742480",
   "metadata": {},
   "outputs": [
    {
     "data": {
      "text/plain": [
       "['dog',\n",
       " 'dog',\n",
       " 'cat',\n",
       " 'dog',\n",
       " 'dog',\n",
       " 'dog',\n",
       " 'cat',\n",
       " 'cat',\n",
       " 'dog',\n",
       " 'dog',\n",
       " 'dog',\n",
       " 'dog',\n",
       " 'dog',\n",
       " 'dog',\n",
       " 'dog',\n",
       " 'dog',\n",
       " 'dog',\n",
       " 'dog',\n",
       " 'dog',\n",
       " 'dog',\n",
       " 'cat',\n",
       " 'dog',\n",
       " 'dog',\n",
       " 'dog',\n",
       " 'dog',\n",
       " 'dog',\n",
       " 'dog',\n",
       " 'dog',\n",
       " 'cat',\n",
       " 'cat',\n",
       " 'cat',\n",
       " 'cat',\n",
       " 'dog',\n",
       " 'dog',\n",
       " 'dog',\n",
       " 'dog',\n",
       " 'dog',\n",
       " 'dog',\n",
       " 'dog',\n",
       " 'dog',\n",
       " 'dog',\n",
       " 'cat',\n",
       " 'dog',\n",
       " 'dog',\n",
       " 'cat',\n",
       " 'cat',\n",
       " 'dog',\n",
       " 'cat',\n",
       " 'dog',\n",
       " 'cat']"
      ]
     },
     "execution_count": 17,
     "metadata": {},
     "output_type": "execute_result"
    }
   ],
   "source": [
    "result_list"
   ]
  },
  {
   "cell_type": "code",
   "execution_count": 18,
   "id": "d68402b5",
   "metadata": {
    "scrolled": true
   },
   "outputs": [
    {
     "name": "stdout",
     "output_type": "stream",
     "text": [
      "dict_keys(['loss', 'accuracy', 'val_loss', 'val_accuracy'])\n"
     ]
    }
   ],
   "source": [
    "import matplotlib.pyplot as plt\n",
    "print(history.history.keys())"
   ]
  },
  {
   "cell_type": "code",
   "execution_count": 19,
   "id": "baff7289",
   "metadata": {
    "scrolled": true
   },
   "outputs": [
    {
     "data": {
      "text/plain": [
       "[<matplotlib.lines.Line2D at 0x1c19c47e8e0>]"
      ]
     },
     "execution_count": 19,
     "metadata": {},
     "output_type": "execute_result"
    },
    {
     "data": {
      "image/png": "[encoded data removed]",
      "text/plain": [
       "<Figure size 432x288 with 1 Axes>"
      ]
     },
     "metadata": {
      "needs_background": "light"
     },
     "output_type": "display_data"
    }
   ],
   "source": [
    "plt.plot(history.history['accuracy'])\n",
    "plt.plot(history.history['val_loss'])\n",
    "plt.plot(history.history['val_accuracy'])\n",
    "plt.plot(history.history['loss'])"
   ]
  },
  {
   "cell_type": "code",
   "execution_count": null,
   "id": "f87a5772",
   "metadata": {},
   "outputs": [],
   "source": []
  }
 ],
 "metadata": {
  "kernelspec": {
   "display_name": "Python 3 (ipykernel)",
   "language": "python",
   "name": "python3"
  },
  "language_info": {
   "codemirror_mode": {
    "name": "ipython",
    "version": 3
   },
   "file_extension": ".py",
   "mimetype": "text/x-python",
   "name": "python",
   "nbconvert_exporter": "python",
   "pygments_lexer": "ipython3",
   "version": "3.9.7"
  }
 },
 "nbformat": 4,
 "nbformat_minor": 5
}
